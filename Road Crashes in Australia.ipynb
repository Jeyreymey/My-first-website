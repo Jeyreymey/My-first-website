{
 "cells": [
  {
   "cell_type": "markdown",
   "metadata": {
    "deletable": true,
    "editable": true,
    "slideshow": {
     "slide_type": "slide"
    }
   },
   "source": [
    "Road Crashes Fatalities in Australia"
   ]
  },
  {
   "cell_type": "code",
   "execution_count": 1,
   "metadata": {
    "collapsed": false,
    "deletable": true,
    "editable": true,
    "slideshow": {
     "slide_type": "skip"
    }
   },
   "outputs": [],
   "source": [
    "import matplotlib\n",
    "import matplotlib.pyplot as plt\n",
    "import numpy as np\n",
    "import pandas as pd\n",
    "import os\n",
    "from __future__ import division"
   ]
  },
  {
   "cell_type": "code",
   "execution_count": 2,
   "metadata": {
    "collapsed": true,
    "deletable": true,
    "editable": true,
    "slideshow": {
     "slide_type": "skip"
    }
   },
   "outputs": [],
   "source": [
    "%matplotlib inline\n",
    "plt.rcParams['figure.figsize'] = (10, 10)"
   ]
  },
  {
   "cell_type": "code",
   "execution_count": 3,
   "metadata": {
    "collapsed": true,
    "deletable": true,
    "editable": true,
    "slideshow": {
     "slide_type": "skip"
    }
   },
   "outputs": [],
   "source": [
    "saved_style_state = matplotlib.rcParams.copy()"
   ]
  },
  {
   "cell_type": "code",
   "execution_count": 4,
   "metadata": {
    "collapsed": false,
    "deletable": true,
    "editable": true,
    "slideshow": {
     "slide_type": "slide"
    }
   },
   "outputs": [
    {
     "name": "stdout",
     "output_type": "stream",
     "text": [
      "loading data\n",
      "done\n"
     ]
    }
   ],
   "source": [
    "filepath = \"http://data.gov.au/dataset/5b530fb8-526e-4fbf-b0f6-aa24e84e4277/resource/fd646fdc-7788-4bea-a736-e4aeb0dd09a8/download/fatalitiesmar2017.csv\"\n",
    "print \"loading data\"\n",
    "fatal_data = pd.read_csv(filepath)\n",
    "print \"done\""
   ]
  },
  {
   "cell_type": "code",
   "execution_count": 5,
   "metadata": {
    "collapsed": false,
    "deletable": true,
    "editable": true,
    "scrolled": true,
    "slideshow": {
     "slide_type": "slide"
    }
   },
   "outputs": [
    {
     "data": {
      "text/html": [
       "<div>\n",
       "<style>\n",
       "    .dataframe thead tr:only-child th {\n",
       "        text-align: right;\n",
       "    }\n",
       "\n",
       "    .dataframe thead th {\n",
       "        text-align: left;\n",
       "    }\n",
       "\n",
       "    .dataframe tbody tr th {\n",
       "        vertical-align: top;\n",
       "    }\n",
       "</style>\n",
       "<table border=\"1\" class=\"dataframe\">\n",
       "  <thead>\n",
       "    <tr style=\"text-align: right;\">\n",
       "      <th></th>\n",
       "      <th>CrashID</th>\n",
       "      <th>State</th>\n",
       "      <th>Day</th>\n",
       "      <th>Month</th>\n",
       "      <th>Year</th>\n",
       "      <th>Hour</th>\n",
       "      <th>Minute</th>\n",
       "      <th>Crash_Type</th>\n",
       "      <th>Bus_Involvement</th>\n",
       "      <th>Heavy_Rigid_Truck_Involvement</th>\n",
       "      <th>Articulated_Truck_Involvement</th>\n",
       "      <th>Speed_Limit</th>\n",
       "      <th>Road_User</th>\n",
       "      <th>Gender</th>\n",
       "      <th>Age</th>\n",
       "    </tr>\n",
       "  </thead>\n",
       "  <tbody>\n",
       "    <tr>\n",
       "      <th>0</th>\n",
       "      <td>3201701010001</td>\n",
       "      <td>QLD</td>\n",
       "      <td>1</td>\n",
       "      <td>January</td>\n",
       "      <td>2017</td>\n",
       "      <td>0</td>\n",
       "      <td>0</td>\n",
       "      <td>Pedestrian</td>\n",
       "      <td>No</td>\n",
       "      <td>No</td>\n",
       "      <td>No</td>\n",
       "      <td>50</td>\n",
       "      <td>Pedestrian</td>\n",
       "      <td>Female</td>\n",
       "      <td>64</td>\n",
       "    </tr>\n",
       "    <tr>\n",
       "      <th>1</th>\n",
       "      <td>5201701010001</td>\n",
       "      <td>WA</td>\n",
       "      <td>1</td>\n",
       "      <td>January</td>\n",
       "      <td>2017</td>\n",
       "      <td>16</td>\n",
       "      <td>30</td>\n",
       "      <td>Multiple vehicle</td>\n",
       "      <td>No</td>\n",
       "      <td>No</td>\n",
       "      <td>No</td>\n",
       "      <td>100</td>\n",
       "      <td>Motorcycle rider</td>\n",
       "      <td>Male</td>\n",
       "      <td>21</td>\n",
       "    </tr>\n",
       "    <tr>\n",
       "      <th>2</th>\n",
       "      <td>5201701010002</td>\n",
       "      <td>WA</td>\n",
       "      <td>1</td>\n",
       "      <td>January</td>\n",
       "      <td>2017</td>\n",
       "      <td>17</td>\n",
       "      <td>14</td>\n",
       "      <td>Multiple vehicle</td>\n",
       "      <td>No</td>\n",
       "      <td>No</td>\n",
       "      <td>No</td>\n",
       "      <td>70</td>\n",
       "      <td>Driver</td>\n",
       "      <td>Male</td>\n",
       "      <td>25</td>\n",
       "    </tr>\n",
       "    <tr>\n",
       "      <th>3</th>\n",
       "      <td>3201701020002</td>\n",
       "      <td>QLD</td>\n",
       "      <td>2</td>\n",
       "      <td>January</td>\n",
       "      <td>2017</td>\n",
       "      <td>3</td>\n",
       "      <td>0</td>\n",
       "      <td>Pedestrian</td>\n",
       "      <td>No</td>\n",
       "      <td>No</td>\n",
       "      <td>No</td>\n",
       "      <td>100</td>\n",
       "      <td>Pedestrian</td>\n",
       "      <td>Female</td>\n",
       "      <td>30</td>\n",
       "    </tr>\n",
       "    <tr>\n",
       "      <th>4</th>\n",
       "      <td>1201701020002</td>\n",
       "      <td>NSW</td>\n",
       "      <td>2</td>\n",
       "      <td>January</td>\n",
       "      <td>2017</td>\n",
       "      <td>13</td>\n",
       "      <td>15</td>\n",
       "      <td>Multiple vehicle</td>\n",
       "      <td>No</td>\n",
       "      <td>No</td>\n",
       "      <td>No</td>\n",
       "      <td>80</td>\n",
       "      <td>Motorcycle rider</td>\n",
       "      <td>Male</td>\n",
       "      <td>26</td>\n",
       "    </tr>\n",
       "    <tr>\n",
       "      <th>5</th>\n",
       "      <td>5201701020003</td>\n",
       "      <td>WA</td>\n",
       "      <td>2</td>\n",
       "      <td>January</td>\n",
       "      <td>2017</td>\n",
       "      <td>18</td>\n",
       "      <td>27</td>\n",
       "      <td>Single vehicle</td>\n",
       "      <td>No</td>\n",
       "      <td>No</td>\n",
       "      <td>No</td>\n",
       "      <td>110</td>\n",
       "      <td>Driver</td>\n",
       "      <td>Male</td>\n",
       "      <td>24</td>\n",
       "    </tr>\n",
       "    <tr>\n",
       "      <th>6</th>\n",
       "      <td>1201701020001</td>\n",
       "      <td>NSW</td>\n",
       "      <td>2</td>\n",
       "      <td>January</td>\n",
       "      <td>2017</td>\n",
       "      <td>18</td>\n",
       "      <td>10</td>\n",
       "      <td>Single vehicle</td>\n",
       "      <td>No</td>\n",
       "      <td>No</td>\n",
       "      <td>No</td>\n",
       "      <td>50</td>\n",
       "      <td>Driver</td>\n",
       "      <td>Male</td>\n",
       "      <td>28</td>\n",
       "    </tr>\n",
       "    <tr>\n",
       "      <th>7</th>\n",
       "      <td>1201701030003</td>\n",
       "      <td>NSW</td>\n",
       "      <td>3</td>\n",
       "      <td>January</td>\n",
       "      <td>2017</td>\n",
       "      <td>14</td>\n",
       "      <td>15</td>\n",
       "      <td>Multiple vehicle</td>\n",
       "      <td>No</td>\n",
       "      <td>Yes</td>\n",
       "      <td>Yes</td>\n",
       "      <td>100</td>\n",
       "      <td>Driver</td>\n",
       "      <td>Male</td>\n",
       "      <td>29</td>\n",
       "    </tr>\n",
       "    <tr>\n",
       "      <th>8</th>\n",
       "      <td>1201701030003</td>\n",
       "      <td>NSW</td>\n",
       "      <td>3</td>\n",
       "      <td>January</td>\n",
       "      <td>2017</td>\n",
       "      <td>14</td>\n",
       "      <td>15</td>\n",
       "      <td>Multiple vehicle</td>\n",
       "      <td>No</td>\n",
       "      <td>Yes</td>\n",
       "      <td>Yes</td>\n",
       "      <td>100</td>\n",
       "      <td>Driver</td>\n",
       "      <td>Male</td>\n",
       "      <td>52</td>\n",
       "    </tr>\n",
       "    <tr>\n",
       "      <th>9</th>\n",
       "      <td>5201701030004</td>\n",
       "      <td>WA</td>\n",
       "      <td>3</td>\n",
       "      <td>January</td>\n",
       "      <td>2017</td>\n",
       "      <td>15</td>\n",
       "      <td>21</td>\n",
       "      <td>Multiple vehicle</td>\n",
       "      <td>No</td>\n",
       "      <td>No</td>\n",
       "      <td>No</td>\n",
       "      <td>70</td>\n",
       "      <td>Motorcycle rider</td>\n",
       "      <td>Male</td>\n",
       "      <td>23</td>\n",
       "    </tr>\n",
       "    <tr>\n",
       "      <th>10</th>\n",
       "      <td>3201701030003</td>\n",
       "      <td>QLD</td>\n",
       "      <td>3</td>\n",
       "      <td>January</td>\n",
       "      <td>2017</td>\n",
       "      <td>16</td>\n",
       "      <td>0</td>\n",
       "      <td>Multiple vehicle</td>\n",
       "      <td>No</td>\n",
       "      <td>No</td>\n",
       "      <td>No</td>\n",
       "      <td>100</td>\n",
       "      <td>Driver</td>\n",
       "      <td>Male</td>\n",
       "      <td>74</td>\n",
       "    </tr>\n",
       "    <tr>\n",
       "      <th>11</th>\n",
       "      <td>3201701040004</td>\n",
       "      <td>QLD</td>\n",
       "      <td>4</td>\n",
       "      <td>January</td>\n",
       "      <td>2017</td>\n",
       "      <td>19</td>\n",
       "      <td>0</td>\n",
       "      <td>Multiple vehicle</td>\n",
       "      <td>No</td>\n",
       "      <td>No</td>\n",
       "      <td>No</td>\n",
       "      <td>100</td>\n",
       "      <td>Motorcycle rider</td>\n",
       "      <td>Male</td>\n",
       "      <td>69</td>\n",
       "    </tr>\n",
       "    <tr>\n",
       "      <th>12</th>\n",
       "      <td>1201701050004</td>\n",
       "      <td>NSW</td>\n",
       "      <td>5</td>\n",
       "      <td>January</td>\n",
       "      <td>2017</td>\n",
       "      <td>10</td>\n",
       "      <td>18</td>\n",
       "      <td>Pedestrian</td>\n",
       "      <td>No</td>\n",
       "      <td>No</td>\n",
       "      <td>Yes</td>\n",
       "      <td>60</td>\n",
       "      <td>Pedestrian</td>\n",
       "      <td>Male</td>\n",
       "      <td>56</td>\n",
       "    </tr>\n",
       "    <tr>\n",
       "      <th>13</th>\n",
       "      <td>2201701050001</td>\n",
       "      <td>VIC</td>\n",
       "      <td>5</td>\n",
       "      <td>January</td>\n",
       "      <td>2017</td>\n",
       "      <td>17</td>\n",
       "      <td>28</td>\n",
       "      <td>Multiple vehicle</td>\n",
       "      <td>No</td>\n",
       "      <td>No</td>\n",
       "      <td>No</td>\n",
       "      <td>100</td>\n",
       "      <td>Driver</td>\n",
       "      <td>Male</td>\n",
       "      <td>44</td>\n",
       "    </tr>\n",
       "    <tr>\n",
       "      <th>14</th>\n",
       "      <td>3201701060005</td>\n",
       "      <td>QLD</td>\n",
       "      <td>6</td>\n",
       "      <td>January</td>\n",
       "      <td>2017</td>\n",
       "      <td>1</td>\n",
       "      <td>0</td>\n",
       "      <td>Single vehicle</td>\n",
       "      <td>No</td>\n",
       "      <td>No</td>\n",
       "      <td>No</td>\n",
       "      <td>100</td>\n",
       "      <td>Driver</td>\n",
       "      <td>Male</td>\n",
       "      <td>24</td>\n",
       "    </tr>\n",
       "    <tr>\n",
       "      <th>15</th>\n",
       "      <td>2201701060002</td>\n",
       "      <td>VIC</td>\n",
       "      <td>6</td>\n",
       "      <td>January</td>\n",
       "      <td>2017</td>\n",
       "      <td>17</td>\n",
       "      <td>0</td>\n",
       "      <td>Multiple vehicle</td>\n",
       "      <td>No</td>\n",
       "      <td>No</td>\n",
       "      <td>No</td>\n",
       "      <td>100</td>\n",
       "      <td>Passenger</td>\n",
       "      <td>Female</td>\n",
       "      <td>17</td>\n",
       "    </tr>\n",
       "  </tbody>\n",
       "</table>\n",
       "</div>"
      ],
      "text/plain": [
       "          CrashID State  Day    Month  Year  Hour  Minute        Crash_Type  \\\n",
       "0   3201701010001   QLD    1  January  2017     0       0        Pedestrian   \n",
       "1   5201701010001    WA    1  January  2017    16      30  Multiple vehicle   \n",
       "2   5201701010002    WA    1  January  2017    17      14  Multiple vehicle   \n",
       "3   3201701020002   QLD    2  January  2017     3       0        Pedestrian   \n",
       "4   1201701020002   NSW    2  January  2017    13      15  Multiple vehicle   \n",
       "5   5201701020003    WA    2  January  2017    18      27    Single vehicle   \n",
       "6   1201701020001   NSW    2  January  2017    18      10    Single vehicle   \n",
       "7   1201701030003   NSW    3  January  2017    14      15  Multiple vehicle   \n",
       "8   1201701030003   NSW    3  January  2017    14      15  Multiple vehicle   \n",
       "9   5201701030004    WA    3  January  2017    15      21  Multiple vehicle   \n",
       "10  3201701030003   QLD    3  January  2017    16       0  Multiple vehicle   \n",
       "11  3201701040004   QLD    4  January  2017    19       0  Multiple vehicle   \n",
       "12  1201701050004   NSW    5  January  2017    10      18        Pedestrian   \n",
       "13  2201701050001   VIC    5  January  2017    17      28  Multiple vehicle   \n",
       "14  3201701060005   QLD    6  January  2017     1       0    Single vehicle   \n",
       "15  2201701060002   VIC    6  January  2017    17       0  Multiple vehicle   \n",
       "\n",
       "   Bus_Involvement Heavy_Rigid_Truck_Involvement  \\\n",
       "0               No                            No   \n",
       "1               No                            No   \n",
       "2               No                            No   \n",
       "3               No                            No   \n",
       "4               No                            No   \n",
       "5               No                            No   \n",
       "6               No                            No   \n",
       "7               No                           Yes   \n",
       "8               No                           Yes   \n",
       "9               No                            No   \n",
       "10              No                            No   \n",
       "11              No                            No   \n",
       "12              No                            No   \n",
       "13              No                            No   \n",
       "14              No                            No   \n",
       "15              No                            No   \n",
       "\n",
       "   Articulated_Truck_Involvement  Speed_Limit         Road_User  Gender  Age  \n",
       "0                             No           50        Pedestrian  Female   64  \n",
       "1                             No          100  Motorcycle rider    Male   21  \n",
       "2                             No           70            Driver    Male   25  \n",
       "3                             No          100        Pedestrian  Female   30  \n",
       "4                             No           80  Motorcycle rider    Male   26  \n",
       "5                             No          110            Driver    Male   24  \n",
       "6                             No           50            Driver    Male   28  \n",
       "7                            Yes          100            Driver    Male   29  \n",
       "8                            Yes          100            Driver    Male   52  \n",
       "9                             No           70  Motorcycle rider    Male   23  \n",
       "10                            No          100            Driver    Male   74  \n",
       "11                            No          100  Motorcycle rider    Male   69  \n",
       "12                           Yes           60        Pedestrian    Male   56  \n",
       "13                            No          100            Driver    Male   44  \n",
       "14                            No          100            Driver    Male   24  \n",
       "15                            No          100         Passenger  Female   17  "
      ]
     },
     "execution_count": 5,
     "metadata": {},
     "output_type": "execute_result"
    }
   ],
   "source": [
    "fatal_data.head(16)"
   ]
  },
  {
   "cell_type": "code",
   "execution_count": 6,
   "metadata": {
    "collapsed": false,
    "deletable": true,
    "editable": true,
    "scrolled": false,
    "slideshow": {
     "slide_type": "skip"
    }
   },
   "outputs": [
    {
     "data": {
      "text/plain": [
       "Index([u'CrashID', u'State', u'Day', u'Month', u'Year', u'Hour', u'Minute',\n",
       "       u'Crash_Type', u'Bus_Involvement', u'Heavy_Rigid_Truck_Involvement',\n",
       "       u'Articulated_Truck_Involvement', u'Speed_Limit', u'Road_User',\n",
       "       u'Gender', u'Age'],\n",
       "      dtype='object')"
      ]
     },
     "execution_count": 6,
     "metadata": {},
     "output_type": "execute_result"
    }
   ],
   "source": [
    "fatal_data.columns"
   ]
  },
  {
   "cell_type": "code",
   "execution_count": 7,
   "metadata": {
    "collapsed": false,
    "deletable": true,
    "editable": true,
    "scrolled": true,
    "slideshow": {
     "slide_type": "skip"
    }
   },
   "outputs": [
    {
     "data": {
      "text/plain": [
       "CrashID                             1199810290408\n",
       "State                                         NSW\n",
       "Day                                            29\n",
       "Month                                     October\n",
       "Year                                         1998\n",
       "Hour                                           22\n",
       "Minute                                         10\n",
       "Crash_Type                       Multiple vehicle\n",
       "Bus_Involvement                                No\n",
       "Heavy_Rigid_Truck_Involvement             Unknown\n",
       "Articulated_Truck_Involvement                 Yes\n",
       "Speed_Limit                                   100\n",
       "Road_User                                  Driver\n",
       "Gender                                       Male\n",
       "Age                                            29\n",
       "Name: 28563, dtype: object"
      ]
     },
     "execution_count": 7,
     "metadata": {},
     "output_type": "execute_result"
    }
   ],
   "source": [
    "row = fatal_data.iloc[28563]\n",
    "row"
   ]
  },
  {
   "cell_type": "markdown",
   "metadata": {
    "deletable": true,
    "editable": true,
    "slideshow": {
     "slide_type": "slide"
    }
   },
   "source": [
    "Month Of Fatalities"
   ]
  },
  {
   "cell_type": "code",
   "execution_count": 8,
   "metadata": {
    "collapsed": false,
    "deletable": true,
    "editable": true,
    "slideshow": {
     "slide_type": "subslide"
    }
   },
   "outputs": [
    {
     "data": {
      "text/plain": [
       "December     4291\n",
       "March        4244\n",
       "October      4135\n",
       "August       4016\n",
       "November     3994\n",
       "May          3986\n",
       "April        3952\n",
       "January      3932\n",
       "September    3875\n",
       "June         3874\n",
       "July         3827\n",
       "February     3614\n",
       "Name: Month, dtype: int64"
      ]
     },
     "execution_count": 8,
     "metadata": {},
     "output_type": "execute_result"
    }
   ],
   "source": [
    "fatal_data[\"Month\"].value_counts()"
   ]
  },
  {
   "cell_type": "code",
   "execution_count": 9,
   "metadata": {
    "collapsed": false,
    "deletable": true,
    "editable": true,
    "scrolled": true,
    "slideshow": {
     "slide_type": "slide"
    }
   },
   "outputs": [
    {
     "data": {
      "text/plain": [
       "<matplotlib.text.Text at 0x7f66e033a350>"
      ]
     },
     "execution_count": 9,
     "metadata": {},
     "output_type": "execute_result"
    },
    {
     "data": {
      "image/png": "[encoded data removed]",
      "text/plain": [
       "<matplotlib.figure.Figure at 0x7f670c02a150>"
      ]
     },
     "metadata": {},
     "output_type": "display_data"
    }
   ],
   "source": [
    "fatal_data[\"Month\"].value_counts().plot(kind=\"bar\")\n",
    "plt.title(\"Month of Fatalities\", fontsize=20)\n",
    "plt.xlabel(\"Month\", fontsize=12)\n",
    "plt.ylabel(\"Count\", fontsize=12)"
   ]
  },
  {
   "cell_type": "markdown",
   "metadata": {
    "deletable": true,
    "editable": true,
    "slideshow": {
     "slide_type": "slide"
    }
   },
   "source": [
    "Year Of Fatalities"
   ]
  },
  {
   "cell_type": "code",
   "execution_count": 10,
   "metadata": {
    "collapsed": false,
    "deletable": true,
    "editable": true,
    "scrolled": true,
    "slideshow": {
     "slide_type": "slide"
    }
   },
   "outputs": [
    {
     "data": {
      "text/plain": [
       "<matplotlib.text.Text at 0x7f66e01fec50>"
      ]
     },
     "execution_count": 10,
     "metadata": {},
     "output_type": "execute_result"
    },
    {
     "data": {
      "image/png": "[encoded data removed]",
      "text/plain": [
       "<matplotlib.figure.Figure at 0x7f66e025c810>"
      ]
     },
     "metadata": {},
     "output_type": "display_data"
    }
   ],
   "source": [
    "fatal_data[\"Year\"].value_counts().plot(kind=\"bar\")\n",
    "plt.title(\"Year of Fatalities-Normalised\", fontsize=20)\n",
    "plt.xlabel(\"Year\", fontsize=12)\n",
    "plt.ylabel(\"Count\", fontsize=12)"
   ]
  },
  {
   "cell_type": "code",
   "execution_count": 11,
   "metadata": {
    "collapsed": false,
    "deletable": true,
    "editable": true,
    "scrolled": true,
    "slideshow": {
     "slide_type": "slide"
    }
   },
   "outputs": [
    {
     "data": {
      "image/png": "[encoded data removed]",
      "text/plain": [
       "<matplotlib.figure.Figure at 0x7f66dff1e2d0>"
      ]
     },
     "metadata": {},
     "output_type": "display_data"
    }
   ],
   "source": [
    "number_of_bins = 100\n",
    "lower_bound = 1989\n",
    "upper_bound = 2016\n",
    "\n",
    "plt.hist(fatal_data[\"Year\"], bins=number_of_bins, range=(lower_bound, upper_bound))\n",
    "plt.title(\"Number of road crash fatalities between {} and {}\".format(\"1989\", \"2017\"), fontsize=20)\n",
    "plt.xlabel('Years', fontsize=12)\n",
    "plt.ylabel('Count', fontsize=12)\n",
    "plt.grid(True)\n",
    "plt.show()"
   ]
  },
  {
   "cell_type": "code",
   "execution_count": 12,
   "metadata": {
    "collapsed": false,
    "deletable": true,
    "editable": true,
    "scrolled": true,
    "slideshow": {
     "slide_type": "skip"
    }
   },
   "outputs": [
    {
     "data": {
      "text/plain": [
       "<matplotlib.text.Text at 0x7f66ddc97310>"
      ]
     },
     "execution_count": 12,
     "metadata": {},
     "output_type": "execute_result"
    },
    {
     "data": {
      "image/png": "[encoded data removed]",
      "text/plain": [
       "<matplotlib.figure.Figure at 0x7f66e0062390>"
      ]
     },
     "metadata": {},
     "output_type": "display_data"
    }
   ],
   "source": [
    "fatal_data[\"Year\"].plot()\n",
    "plt.title(\"Test Graph\")"
   ]
  },
  {
   "cell_type": "markdown",
   "metadata": {
    "collapsed": true,
    "deletable": true,
    "editable": true,
    "slideshow": {
     "slide_type": "slide"
    }
   },
   "source": [
    "State Of Fatalities"
   ]
  },
  {
   "cell_type": "code",
   "execution_count": 13,
   "metadata": {
    "collapsed": false,
    "deletable": true,
    "editable": true,
    "scrolled": false,
    "slideshow": {
     "slide_type": "subslide"
    }
   },
   "outputs": [
    {
     "data": {
      "text/plain": [
       "NSW    14833\n",
       "VIC    10527\n",
       "QLD     9368\n",
       "WA      5578\n",
       "SA      4114\n",
       "NT      1479\n",
       "TAS     1398\n",
       "ACT      443\n",
       "Name: State, dtype: int64"
      ]
     },
     "execution_count": 13,
     "metadata": {},
     "output_type": "execute_result"
    }
   ],
   "source": [
    "fatal_data[\"State\"].value_counts()"
   ]
  },
  {
   "cell_type": "code",
   "execution_count": 14,
   "metadata": {
    "collapsed": false,
    "deletable": true,
    "editable": true,
    "scrolled": true,
    "slideshow": {
     "slide_type": "slide"
    }
   },
   "outputs": [
    {
     "data": {
      "text/plain": [
       "<matplotlib.text.Text at 0x7f66dd8df890>"
      ]
     },
     "execution_count": 14,
     "metadata": {},
     "output_type": "execute_result"
    },
    {
     "data": {
      "image/png": "[encoded data removed]",
      "text/plain": [
       "<matplotlib.figure.Figure at 0x7f66e02b49d0>"
      ]
     },
     "metadata": {},
     "output_type": "display_data"
    }
   ],
   "source": [
    "fatal_data[\"State\"].value_counts().plot(kind=\"bar\")\n",
    "plt.title(\"States of Car Crashes\", fontsize=20)\n",
    "plt.xlabel(\"States\", fontsize=12)\n",
    "plt.ylabel(\"Count\", fontsize=12)"
   ]
  },
  {
   "cell_type": "markdown",
   "metadata": {
    "collapsed": true,
    "deletable": true,
    "editable": true,
    "slideshow": {
     "slide_type": "slide"
    }
   },
   "source": [
    "Age of Fatalities"
   ]
  },
  {
   "cell_type": "code",
   "execution_count": 15,
   "metadata": {
    "collapsed": false,
    "deletable": true,
    "editable": true,
    "scrolled": true,
    "slideshow": {
     "slide_type": "subslide"
    }
   },
   "outputs": [
    {
     "data": {
      "text/plain": [
       " 18     1829\n",
       " 19     1662\n",
       " 20     1656\n",
       " 21     1484\n",
       " 22     1317\n",
       " 23     1300\n",
       " 17     1298\n",
       " 25     1131\n",
       " 24     1109\n",
       " 26     1052\n",
       " 27      968\n",
       " 29      917\n",
       " 28      913\n",
       " 30      862\n",
       " 32      828\n",
       " 31      825\n",
       " 33      783\n",
       " 36      777\n",
       " 34      708\n",
       " 16      699\n",
       " 40      687\n",
       " 35      678\n",
       " 38      636\n",
       " 39      635\n",
       " 37      634\n",
       " 41      630\n",
       " 43      579\n",
       " 45      572\n",
       " 46      568\n",
       " 42      564\n",
       "        ... \n",
       " 86      208\n",
       " 13      207\n",
       " 2       196\n",
       " 5       182\n",
       " 4       178\n",
       " 1       177\n",
       " 3       177\n",
       " 8       174\n",
       " 10      172\n",
       " 87      168\n",
       " 12      161\n",
       " 6       151\n",
       " 9       150\n",
       " 88      147\n",
       " 11      145\n",
       " 7       143\n",
       " 89      110\n",
       " 90      106\n",
       "-9        81\n",
       " 91       69\n",
       " 92       59\n",
       " 93       46\n",
       " 94       31\n",
       " 96       19\n",
       " 97       13\n",
       " 95       12\n",
       " 98        5\n",
       " 99        5\n",
       " 100       1\n",
       " 101       1\n",
       "Name: Age, Length: 103, dtype: int64"
      ]
     },
     "execution_count": 15,
     "metadata": {},
     "output_type": "execute_result"
    }
   ],
   "source": [
    "fatal_data[\"Age\"].value_counts()"
   ]
  },
  {
   "cell_type": "code",
   "execution_count": 33,
   "metadata": {
    "collapsed": false,
    "deletable": true,
    "editable": true,
    "scrolled": false,
    "slideshow": {
     "slide_type": "slide"
    }
   },
   "outputs": [
    {
     "data": {
      "image/png": "[encoded data removed]",
      "text/plain": [
       "<matplotlib.figure.Figure at 0x7f66d7e3ea10>"
      ]
     },
     "metadata": {},
     "output_type": "display_data"
    }
   ],
   "source": [
    "labels = 'NSW', 'VIC', 'QLD', 'WA', 'SA', 'NT', 'TAS', 'ACT'\n",
    "sizes = [(14883/47740), (10527/47740), (9368/47740), (5578/47740), (4114/47740), (1479/47740), (1398/47740), (443/47740)]\n",
    "explode = (0.1, 0.1, 0.1, 0.1, 0.1, 0.1, 0.1, 0.1)\n",
    "\n",
    "fig1, ax1 = plt.subplots()\n",
    "ax1.pie(sizes, explode=explode, labels=labels, autopct='%1.0f%%',\n",
    "        shadow=False, startangle=90)\n",
    "ax1.axis()\n",
    "\n",
    "plt.show()"
   ]
  },
  {
   "cell_type": "code",
   "execution_count": 17,
   "metadata": {
    "collapsed": false,
    "deletable": true,
    "editable": true,
    "scrolled": true,
    "slideshow": {
     "slide_type": "slide"
    }
   },
   "outputs": [
    {
     "data": {
      "text/plain": [
       "<matplotlib.text.Text at 0x7f66ddb964d0>"
      ]
     },
     "execution_count": 17,
     "metadata": {},
     "output_type": "execute_result"
    },
    {
     "data": {
      "image/png": "[encoded data removed]",
      "text/plain": [
       "<matplotlib.figure.Figure at 0x7f66ddbd70d0>"
      ]
     },
     "metadata": {},
     "output_type": "display_data"
    }
   ],
   "source": [
    "fatal_data[\"Age\"].value_counts().plot(kind=\"bar\")\n",
    "plt.title(\"Age of Victims-Descending\", fontsize=20)\n",
    "plt.ylabel(\"Count\", fontsize=12)\n",
    "plt.xlabel(\"Ages\", fontsize=12)"
   ]
  },
  {
   "cell_type": "code",
   "execution_count": 18,
   "metadata": {
    "collapsed": false,
    "deletable": true,
    "editable": true,
    "scrolled": true,
    "slideshow": {
     "slide_type": "slide"
    }
   },
   "outputs": [
    {
     "data": {
      "image/png": "[encoded data removed]",
      "text/plain": [
       "<matplotlib.figure.Figure at 0x7f66dd9662d0>"
      ]
     },
     "metadata": {},
     "output_type": "display_data"
    }
   ],
   "source": [
    "number_of_bins = 250\n",
    "lower_bound = -9\n",
    "upper_bound = 102\n",
    "\n",
    "plt.hist(fatal_data[\"Age\"], bins=number_of_bins, range=(lower_bound, upper_bound))\n",
    "plt.title(\"Number of victims organized in age\", fontsize=20)\n",
    "plt.xlabel('Ages of Victims', fontsize=12)\n",
    "plt.ylabel('Count', fontsize=12)\n",
    "plt.grid(True)\n",
    "plt.show()"
   ]
  },
  {
   "cell_type": "markdown",
   "metadata": {
    "collapsed": true,
    "deletable": true,
    "editable": true,
    "slideshow": {
     "slide_type": "slide"
    }
   },
   "source": [
    "Most Common Speeds"
   ]
  },
  {
   "cell_type": "code",
   "execution_count": 19,
   "metadata": {
    "collapsed": false,
    "deletable": true,
    "editable": true,
    "scrolled": false,
    "slideshow": {
     "slide_type": "subslide"
    }
   },
   "outputs": [
    {
     "data": {
      "text/plain": [
       " 100    16615\n",
       " 60     12824\n",
       " 80      5376\n",
       " 110     5325\n",
       " 50      2290\n",
       " 70      2258\n",
       " 90      1038\n",
       "-9        735\n",
       " 900      614\n",
       " 40       260\n",
       " 75       254\n",
       " 130       92\n",
       " 20        22\n",
       " 10        16\n",
       " 30        12\n",
       " 25         5\n",
       " 8          1\n",
       " 777        1\n",
       " 888        1\n",
       " 45         1\n",
       "Name: Speed_Limit, dtype: int64"
      ]
     },
     "execution_count": 19,
     "metadata": {},
     "output_type": "execute_result"
    }
   ],
   "source": [
    "fatal_data[\"Speed_Limit\"].value_counts()"
   ]
  },
  {
   "cell_type": "code",
   "execution_count": 37,
   "metadata": {
    "collapsed": false,
    "deletable": true,
    "editable": true,
    "scrolled": false,
    "slideshow": {
     "slide_type": "slide"
    }
   },
   "outputs": [
    {
     "data": {
      "text/plain": [
       "<matplotlib.text.Text at 0x7f66d7a18110>"
      ]
     },
     "execution_count": 37,
     "metadata": {},
     "output_type": "execute_result"
    },
    {
     "data": {
      "image/png": "[encoded data removed]",
      "text/plain": [
       "<matplotlib.figure.Figure at 0x7f66d7d7a8d0>"
      ]
     },
     "metadata": {},
     "output_type": "display_data"
    }
   ],
   "source": [
    "speed_limit = fatal_data[\"Speed_Limit\"].value_counts().plot(kind=\"barh\")\n",
    "plt.title(\"Speed of Fatality\", fontsize=20)\n",
    "plt.xlabel(\"Count\", fontsize=12)\n",
    "plt.ylabel(\"Speed\", fontsize=12)"
   ]
  },
  {
   "cell_type": "markdown",
   "metadata": {
    "collapsed": true,
    "deletable": true,
    "editable": true,
    "slideshow": {
     "slide_type": "slide"
    }
   },
   "source": [
    "Gender of Fatality"
   ]
  },
  {
   "cell_type": "code",
   "execution_count": 21,
   "metadata": {
    "collapsed": false,
    "deletable": true,
    "editable": true,
    "slideshow": {
     "slide_type": "subslide"
    }
   },
   "outputs": [
    {
     "data": {
      "text/plain": [
       "Male       34027\n",
       "Female     13691\n",
       "Unknown       22\n",
       "Name: Gender, dtype: int64"
      ]
     },
     "execution_count": 21,
     "metadata": {},
     "output_type": "execute_result"
    }
   ],
   "source": [
    "fatal_data[\"Gender\"].value_counts()"
   ]
  },
  {
   "cell_type": "code",
   "execution_count": 22,
   "metadata": {
    "collapsed": false,
    "deletable": true,
    "editable": true,
    "scrolled": true,
    "slideshow": {
     "slide_type": "slide"
    }
   },
   "outputs": [
    {
     "data": {
      "text/plain": [
       "<matplotlib.axes._subplots.AxesSubplot at 0x7f66d7d2f490>"
      ]
     },
     "execution_count": 22,
     "metadata": {},
     "output_type": "execute_result"
    },
    {
     "data": {
      "image/png": "[encoded data removed]",
      "text/plain": [
       "<matplotlib.figure.Figure at 0x7f66dda19c50>"
      ]
     },
     "metadata": {},
     "output_type": "display_data"
    }
   ],
   "source": [
    "fatal_data[\"Gender\"].value_counts().plot(kind=\"bar\")"
   ]
  },
  {
   "cell_type": "code",
   "execution_count": 23,
   "metadata": {
    "collapsed": false,
    "deletable": true,
    "editable": true,
    "slideshow": {
     "slide_type": "skip"
    }
   },
   "outputs": [],
   "source": [
    "male_fatality = 34027\n",
    "female_fatality = 13691\n",
    "unknown_fatality = 22\n",
    "total_sum = 47740"
   ]
  },
  {
   "cell_type": "code",
   "execution_count": 30,
   "metadata": {
    "collapsed": false,
    "deletable": true,
    "editable": true,
    "slideshow": {
     "slide_type": "slide"
    }
   },
   "outputs": [
    {
     "data": {
      "image/png": "[encoded data removed]",
      "text/plain": [
       "<matplotlib.figure.Figure at 0x7f66d7c78a50>"
      ]
     },
     "metadata": {},
     "output_type": "display_data"
    }
   ],
   "source": [
    "labels = 'Male', 'Female', 'Unknown'\n",
    "sizes = (male_fatality/total_sum), (female_fatality/total_sum), (unknown_fatality/total_sum)\n",
    "explode = (0.1, 0.1, 0.5)\n",
    "\n",
    "fig1, ax1 = plt.subplots()\n",
    "ax1.pie(sizes, explode=explode, labels=labels, autopct='%1.2f%%',\n",
    "        shadow=False, startangle=20)\n",
    "ax1.axis('equal')\n",
    "plt.title(\"Gender Pie Chart\", fontsize=20)\n",
    "\n",
    "plt.show()"
   ]
  },
  {
   "cell_type": "code",
   "execution_count": 26,
   "metadata": {
    "collapsed": false,
    "deletable": true,
    "editable": true,
    "slideshow": {
     "slide_type": "skip"
    }
   },
   "outputs": [
    {
     "data": {
      "text/plain": [
       "Index([u'CrashID', u'State', u'Day', u'Month', u'Year', u'Hour', u'Minute',\n",
       "       u'Crash_Type', u'Bus_Involvement', u'Heavy_Rigid_Truck_Involvement',\n",
       "       u'Articulated_Truck_Involvement', u'Speed_Limit', u'Road_User',\n",
       "       u'Gender', u'Age'],\n",
       "      dtype='object')"
      ]
     },
     "execution_count": 26,
     "metadata": {},
     "output_type": "execute_result"
    }
   ],
   "source": [
    "fatal_data.columns"
   ]
  }
 ],
 "metadata": {
  "celltoolbar": "Slideshow",
  "kernelspec": {
   "display_name": "Python 2",
   "language": "python",
   "name": "python2"
  },
  "language_info": {
   "codemirror_mode": {
    "name": "ipython",
    "version": 2
   },
   "file_extension": ".py",
   "mimetype": "text/x-python",
   "name": "python",
   "nbconvert_exporter": "python",
   "pygments_lexer": "ipython2",
   "version": "2.7.12"
  }
 },
 "nbformat": 4,
 "nbformat_minor": 2
}
